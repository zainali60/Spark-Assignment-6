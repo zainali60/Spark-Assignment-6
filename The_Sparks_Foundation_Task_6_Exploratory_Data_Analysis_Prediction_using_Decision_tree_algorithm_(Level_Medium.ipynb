{
  "nbformat": 4,
  "nbformat_minor": 0,
  "metadata": {
    "colab": {
      "name": "The Sparks Foundation: Task 6- Exploratory Data Analysis - Prediction using Decision tree algorithm (Level - Medium.ipynb",
      "provenance": [],
      "collapsed_sections": [],
      "authorship_tag": "ABX9TyMa1GSTkCTQcQiWDYNLCrxV",
      "include_colab_link": true
    },
    "kernelspec": {
      "name": "python3",
      "display_name": "Python 3"
    },
    "language_info": {
      "name": "python"
    }
  },
  "cells": [
    {
      "cell_type": "markdown",
      "metadata": {
        "id": "view-in-github",
        "colab_type": "text"
      },
      "source": [
        "<a href=\"https://colab.research.google.com/github/zainali60/Spark-Assignment-6/blob/main/The_Sparks_Foundation_Task_6_Exploratory_Data_Analysis_Prediction_using_Decision_tree_algorithm_(Level_Medium.ipynb\" target=\"_parent\"><img src=\"https://colab.research.google.com/assets/colab-badge.svg\" alt=\"Open In Colab\"/></a>"
      ]
    },
    {
      "cell_type": "markdown",
      "metadata": {
        "id": "V_EGN0ODN0He"
      },
      "source": [
        "**The Sparks Foundation: Task 6- Exploratory Data Analysis - Prediction using Decision tree algorithm (Level - Medium**"
      ]
    },
    {
      "cell_type": "markdown",
      "metadata": {
        "id": "YGhIxwOGOFZ8"
      },
      "source": [
        "Author: Zain Ali\n"
      ]
    },
    {
      "cell_type": "markdown",
      "metadata": {
        "id": "nd590_SqOnTT"
      },
      "source": [
        "Importing Libraries"
      ]
    },
    {
      "cell_type": "code",
      "metadata": {
        "id": "o1mmX_5WNtrU"
      },
      "source": [
        "import numpy as np\n",
        "import pandas as pd"
      ],
      "execution_count": null,
      "outputs": []
    },
    {
      "cell_type": "code",
      "metadata": {
        "id": "AV80rn8VOuAq"
      },
      "source": [
        "from sklearn.model_selection import train_test_split  \n",
        "from sklearn.tree import DecisionTreeClassifier                     \n",
        "from sklearn.metrics import accuracy_score                      \n",
        "from sklearn.metrics import classification_report  \n",
        "from sklearn import tree   "
      ],
      "execution_count": null,
      "outputs": []
    },
    {
      "cell_type": "markdown",
      "metadata": {
        "id": "XgBVgv0MO_LT"
      },
      "source": [
        "Loading Dataset"
      ]
    },
    {
      "cell_type": "code",
      "metadata": {
        "colab": {
          "base_uri": "https://localhost:8080/",
          "height": 417
        },
        "id": "HeB6r4R9O8hI",
        "outputId": "e54f80f3-88f8-4cdc-dd2e-85fb4f3eb4c5"
      },
      "source": [
        "data = pd.read_csv(\"/content/Iris.csv\")\n",
        "data"
      ],
      "execution_count": null,
      "outputs": [
        {
          "output_type": "execute_result",
          "data": {
            "text/html": [
              "<div>\n",
              "<style scoped>\n",
              "    .dataframe tbody tr th:only-of-type {\n",
              "        vertical-align: middle;\n",
              "    }\n",
              "\n",
              "    .dataframe tbody tr th {\n",
              "        vertical-align: top;\n",
              "    }\n",
              "\n",
              "    .dataframe thead th {\n",
              "        text-align: right;\n",
              "    }\n",
              "</style>\n",
              "<table border=\"1\" class=\"dataframe\">\n",
              "  <thead>\n",
              "    <tr style=\"text-align: right;\">\n",
              "      <th></th>\n",
              "      <th>Id</th>\n",
              "      <th>SepalLengthCm</th>\n",
              "      <th>SepalWidthCm</th>\n",
              "      <th>PetalLengthCm</th>\n",
              "      <th>PetalWidthCm</th>\n",
              "      <th>Species</th>\n",
              "    </tr>\n",
              "  </thead>\n",
              "  <tbody>\n",
              "    <tr>\n",
              "      <th>0</th>\n",
              "      <td>1</td>\n",
              "      <td>5.1</td>\n",
              "      <td>3.5</td>\n",
              "      <td>1.4</td>\n",
              "      <td>0.2</td>\n",
              "      <td>Iris-setosa</td>\n",
              "    </tr>\n",
              "    <tr>\n",
              "      <th>1</th>\n",
              "      <td>2</td>\n",
              "      <td>4.9</td>\n",
              "      <td>3.0</td>\n",
              "      <td>1.4</td>\n",
              "      <td>0.2</td>\n",
              "      <td>Iris-setosa</td>\n",
              "    </tr>\n",
              "    <tr>\n",
              "      <th>2</th>\n",
              "      <td>3</td>\n",
              "      <td>4.7</td>\n",
              "      <td>3.2</td>\n",
              "      <td>1.3</td>\n",
              "      <td>0.2</td>\n",
              "      <td>Iris-setosa</td>\n",
              "    </tr>\n",
              "    <tr>\n",
              "      <th>3</th>\n",
              "      <td>4</td>\n",
              "      <td>4.6</td>\n",
              "      <td>3.1</td>\n",
              "      <td>1.5</td>\n",
              "      <td>0.2</td>\n",
              "      <td>Iris-setosa</td>\n",
              "    </tr>\n",
              "    <tr>\n",
              "      <th>4</th>\n",
              "      <td>5</td>\n",
              "      <td>5.0</td>\n",
              "      <td>3.6</td>\n",
              "      <td>1.4</td>\n",
              "      <td>0.2</td>\n",
              "      <td>Iris-setosa</td>\n",
              "    </tr>\n",
              "    <tr>\n",
              "      <th>...</th>\n",
              "      <td>...</td>\n",
              "      <td>...</td>\n",
              "      <td>...</td>\n",
              "      <td>...</td>\n",
              "      <td>...</td>\n",
              "      <td>...</td>\n",
              "    </tr>\n",
              "    <tr>\n",
              "      <th>145</th>\n",
              "      <td>146</td>\n",
              "      <td>6.7</td>\n",
              "      <td>3.0</td>\n",
              "      <td>5.2</td>\n",
              "      <td>2.3</td>\n",
              "      <td>Iris-virginica</td>\n",
              "    </tr>\n",
              "    <tr>\n",
              "      <th>146</th>\n",
              "      <td>147</td>\n",
              "      <td>6.3</td>\n",
              "      <td>2.5</td>\n",
              "      <td>5.0</td>\n",
              "      <td>1.9</td>\n",
              "      <td>Iris-virginica</td>\n",
              "    </tr>\n",
              "    <tr>\n",
              "      <th>147</th>\n",
              "      <td>148</td>\n",
              "      <td>6.5</td>\n",
              "      <td>3.0</td>\n",
              "      <td>5.2</td>\n",
              "      <td>2.0</td>\n",
              "      <td>Iris-virginica</td>\n",
              "    </tr>\n",
              "    <tr>\n",
              "      <th>148</th>\n",
              "      <td>149</td>\n",
              "      <td>6.2</td>\n",
              "      <td>3.4</td>\n",
              "      <td>5.4</td>\n",
              "      <td>2.3</td>\n",
              "      <td>Iris-virginica</td>\n",
              "    </tr>\n",
              "    <tr>\n",
              "      <th>149</th>\n",
              "      <td>150</td>\n",
              "      <td>5.9</td>\n",
              "      <td>3.0</td>\n",
              "      <td>5.1</td>\n",
              "      <td>1.8</td>\n",
              "      <td>Iris-virginica</td>\n",
              "    </tr>\n",
              "  </tbody>\n",
              "</table>\n",
              "<p>150 rows × 6 columns</p>\n",
              "</div>"
            ],
            "text/plain": [
              "      Id  SepalLengthCm  ...  PetalWidthCm         Species\n",
              "0      1            5.1  ...           0.2     Iris-setosa\n",
              "1      2            4.9  ...           0.2     Iris-setosa\n",
              "2      3            4.7  ...           0.2     Iris-setosa\n",
              "3      4            4.6  ...           0.2     Iris-setosa\n",
              "4      5            5.0  ...           0.2     Iris-setosa\n",
              "..   ...            ...  ...           ...             ...\n",
              "145  146            6.7  ...           2.3  Iris-virginica\n",
              "146  147            6.3  ...           1.9  Iris-virginica\n",
              "147  148            6.5  ...           2.0  Iris-virginica\n",
              "148  149            6.2  ...           2.3  Iris-virginica\n",
              "149  150            5.9  ...           1.8  Iris-virginica\n",
              "\n",
              "[150 rows x 6 columns]"
            ]
          },
          "metadata": {},
          "execution_count": 3
        }
      ]
    },
    {
      "cell_type": "code",
      "metadata": {
        "colab": {
          "base_uri": "https://localhost:8080/"
        },
        "id": "B1hGm0ghPSYY",
        "outputId": "518f4730-c811-417d-f823-0f14c2b90159"
      },
      "source": [
        "data.info()"
      ],
      "execution_count": null,
      "outputs": [
        {
          "output_type": "stream",
          "name": "stdout",
          "text": [
            "<class 'pandas.core.frame.DataFrame'>\n",
            "RangeIndex: 150 entries, 0 to 149\n",
            "Data columns (total 6 columns):\n",
            " #   Column         Non-Null Count  Dtype  \n",
            "---  ------         --------------  -----  \n",
            " 0   Id             150 non-null    int64  \n",
            " 1   SepalLengthCm  150 non-null    float64\n",
            " 2   SepalWidthCm   150 non-null    float64\n",
            " 3   PetalLengthCm  150 non-null    float64\n",
            " 4   PetalWidthCm   150 non-null    float64\n",
            " 5   Species        150 non-null    object \n",
            "dtypes: float64(4), int64(1), object(1)\n",
            "memory usage: 7.2+ KB\n"
          ]
        }
      ]
    },
    {
      "cell_type": "markdown",
      "metadata": {
        "id": "BI45-e8tPhBD"
      },
      "source": [
        "Checking missing values"
      ]
    },
    {
      "cell_type": "code",
      "metadata": {
        "colab": {
          "base_uri": "https://localhost:8080/"
        },
        "id": "OOg6w9qqPfQ4",
        "outputId": "13599eb3-78de-4a0f-c442-3d17669d07b7"
      },
      "source": [
        "data.isnull().sum()"
      ],
      "execution_count": null,
      "outputs": [
        {
          "output_type": "execute_result",
          "data": {
            "text/plain": [
              "Id               0\n",
              "SepalLengthCm    0\n",
              "SepalWidthCm     0\n",
              "PetalLengthCm    0\n",
              "PetalWidthCm     0\n",
              "Species          0\n",
              "dtype: int64"
            ]
          },
          "metadata": {},
          "execution_count": 5
        }
      ]
    },
    {
      "cell_type": "markdown",
      "metadata": {
        "id": "-YkbGhmxQDaT"
      },
      "source": [
        "Changing Species Name to Numbers"
      ]
    },
    {
      "cell_type": "code",
      "metadata": {
        "id": "JKrv5rxBPoe3"
      },
      "source": [
        "data = data.replace(to_replace =\"Iris-setosa\",value =\"0\") \n",
        "data = data.replace(to_replace =\"Iris-versicolor\",value =\"1\") \n",
        "data = data.replace(to_replace =\"Iris-virginica\",value =\"2\") "
      ],
      "execution_count": null,
      "outputs": []
    },
    {
      "cell_type": "markdown",
      "metadata": {
        "id": "4eaFV6M-QcSs"
      },
      "source": [
        "Splitting Input and Targets"
      ]
    },
    {
      "cell_type": "code",
      "metadata": {
        "id": "gXyB4aG4QR7q"
      },
      "source": [
        "X = np.array(data[['SepalLengthCm', 'SepalWidthCm', 'PetalLengthCm', 'PetalWidthCm']])                   # Input\n",
        "Y = np.array(data[\"Species\"]) "
      ],
      "execution_count": null,
      "outputs": []
    },
    {
      "cell_type": "markdown",
      "metadata": {
        "id": "smoBCJ9RQuxz"
      },
      "source": [
        "Splitting Dataset into Train/Test set"
      ]
    },
    {
      "cell_type": "code",
      "metadata": {
        "id": "nYWjPzLcQkQq"
      },
      "source": [
        "X_train, X_test, Y_train, Y_test = train_test_split(X, Y, test_size=0.2, random_state = 100)"
      ],
      "execution_count": null,
      "outputs": []
    },
    {
      "cell_type": "markdown",
      "metadata": {
        "id": "YBH7jtEoQ2xG"
      },
      "source": [
        "Training Decision Tree"
      ]
    },
    {
      "cell_type": "markdown",
      "metadata": {
        "id": "RSh6hW-AQ8fd"
      },
      "source": [
        "Using Gini Index"
      ]
    },
    {
      "cell_type": "code",
      "metadata": {
        "id": "lyI3Od8VQytY"
      },
      "source": [
        "clf_gini = DecisionTreeClassifier(criterion = \"gini\",                # Criterion\n",
        "                                  max_depth = 5,                     # Max Height of Tree\n",
        "                                  min_samples_leaf = 3,              # Maximum Leaf samples\n",
        "                                  random_state = 100)"
      ],
      "execution_count": null,
      "outputs": []
    },
    {
      "cell_type": "code",
      "metadata": {
        "colab": {
          "base_uri": "https://localhost:8080/"
        },
        "id": "wyokWqAARG14",
        "outputId": "6431e40b-5f0f-4c6d-da95-f7fb669ee0e6"
      },
      "source": [
        "clf_gini.fit(X_train, Y_train)"
      ],
      "execution_count": null,
      "outputs": [
        {
          "output_type": "execute_result",
          "data": {
            "text/plain": [
              "DecisionTreeClassifier(ccp_alpha=0.0, class_weight=None, criterion='gini',\n",
              "                       max_depth=5, max_features=None, max_leaf_nodes=None,\n",
              "                       min_impurity_decrease=0.0, min_impurity_split=None,\n",
              "                       min_samples_leaf=3, min_samples_split=2,\n",
              "                       min_weight_fraction_leaf=0.0, presort='deprecated',\n",
              "                       random_state=100, splitter='best')"
            ]
          },
          "metadata": {},
          "execution_count": 11
        }
      ]
    },
    {
      "cell_type": "markdown",
      "metadata": {
        "id": "qep2Eqk7RQSy"
      },
      "source": [
        "Evaluating The mode"
      ]
    },
    {
      "cell_type": "code",
      "metadata": {
        "colab": {
          "base_uri": "https://localhost:8080/"
        },
        "id": "U9Bp0qYORJ7o",
        "outputId": "0aa6bc00-ecb1-490b-a59a-c18836d5eac8"
      },
      "source": [
        "y_pred_gini = clf_gini.predict(X_test)\n",
        "y_pred_gini"
      ],
      "execution_count": null,
      "outputs": [
        {
          "output_type": "execute_result",
          "data": {
            "text/plain": [
              "array(['2', '0', '2', '0', '2', '2', '0', '0', '2', '0', '0', '2', '0',\n",
              "       '0', '2', '1', '1', '2', '2', '2', '2', '0', '2', '0', '1', '2',\n",
              "       '1', '0', '1', '2'], dtype=object)"
            ]
          },
          "metadata": {},
          "execution_count": 13
        }
      ]
    },
    {
      "cell_type": "code",
      "metadata": {
        "colab": {
          "base_uri": "https://localhost:8080/"
        },
        "id": "6yZoj4NURTZY",
        "outputId": "88c26a11-9e35-4ffc-f6da-d253aad43c0f"
      },
      "source": [
        "print (\"Accuracy : \", accuracy_score(Y_test,y_pred_gini)) "
      ],
      "execution_count": null,
      "outputs": [
        {
          "output_type": "stream",
          "name": "stdout",
          "text": [
            "Accuracy :  0.9666666666666667\n"
          ]
        }
      ]
    },
    {
      "cell_type": "code",
      "metadata": {
        "colab": {
          "base_uri": "https://localhost:8080/"
        },
        "id": "j1gOB4MZRa7o",
        "outputId": "728b7d4d-0320-4f25-fde1-3783f3c8e156"
      },
      "source": [
        "print (\"Report : \",  classification_report(Y_test, y_pred_gini))"
      ],
      "execution_count": null,
      "outputs": [
        {
          "output_type": "stream",
          "name": "stdout",
          "text": [
            "Report :                precision    recall  f1-score   support\n",
            "\n",
            "           0       1.00      1.00      1.00        11\n",
            "           1       1.00      0.83      0.91         6\n",
            "           2       0.93      1.00      0.96        13\n",
            "\n",
            "    accuracy                           0.97        30\n",
            "   macro avg       0.98      0.94      0.96        30\n",
            "weighted avg       0.97      0.97      0.97        30\n",
            "\n"
          ]
        }
      ]
    },
    {
      "cell_type": "code",
      "metadata": {
        "colab": {
          "base_uri": "https://localhost:8080/",
          "height": 399
        },
        "id": "IXv3iePxRsaY",
        "outputId": "a638f77a-4584-4168-f042-0960fe147e4f"
      },
      "source": [
        "tree.plot_tree(clf_gini)\n"
      ],
      "execution_count": null,
      "outputs": [
        {
          "output_type": "execute_result",
          "data": {
            "text/plain": [
              "[Text(125.55000000000001, 190.26, 'X[2] <= 2.45\\ngini = 0.665\\nsamples = 120\\nvalue = [39, 44, 37]'),\n",
              " Text(83.7, 135.9, 'gini = 0.0\\nsamples = 39\\nvalue = [39, 0, 0]'),\n",
              " Text(167.4, 135.9, 'X[3] <= 1.65\\ngini = 0.496\\nsamples = 81\\nvalue = [0, 44, 37]'),\n",
              " Text(83.7, 81.53999999999999, 'X[2] <= 4.95\\ngini = 0.156\\nsamples = 47\\nvalue = [0, 43, 4]'),\n",
              " Text(41.85, 27.180000000000007, 'gini = 0.0\\nsamples = 42\\nvalue = [0, 42, 0]'),\n",
              " Text(125.55000000000001, 27.180000000000007, 'gini = 0.32\\nsamples = 5\\nvalue = [0, 1, 4]'),\n",
              " Text(251.10000000000002, 81.53999999999999, 'X[2] <= 4.85\\ngini = 0.057\\nsamples = 34\\nvalue = [0, 1, 33]'),\n",
              " Text(209.25, 27.180000000000007, 'gini = 0.375\\nsamples = 4\\nvalue = [0, 1, 3]'),\n",
              " Text(292.95, 27.180000000000007, 'gini = 0.0\\nsamples = 30\\nvalue = [0, 0, 30]')]"
            ]
          },
          "metadata": {},
          "execution_count": 19
        },
        {
          "output_type": "display_data",
          "data": {
            "image/png": "[encoded data removed]",
            "text/plain": [
              "<Figure size 432x288 with 1 Axes>"
            ]
          },
          "metadata": {
            "needs_background": "light"
          }
        }
      ]
    },
    {
      "cell_type": "markdown",
      "metadata": {
        "id": "rHgeyBvmSUhe"
      },
      "source": [
        "Using Entropy"
      ]
    },
    {
      "cell_type": "code",
      "metadata": {
        "id": "HXtyqc5jR8BH"
      },
      "source": [
        "clf_entropy = DecisionTreeClassifier(criterion = \"entropy\",          # Criterion\n",
        "                                     max_depth = 5,                  # Max Height of Tree\n",
        "                                     min_samples_leaf = 3,           # Max Leaf samples\n",
        "                                     random_state = 100)"
      ],
      "execution_count": null,
      "outputs": []
    },
    {
      "cell_type": "markdown",
      "metadata": {
        "id": "v1At1RtOShBO"
      },
      "source": [
        "training the model"
      ]
    },
    {
      "cell_type": "code",
      "metadata": {
        "colab": {
          "base_uri": "https://localhost:8080/"
        },
        "id": "fy4SQHUnSZik",
        "outputId": "dedc7d76-b465-4aac-f55b-63519bf57499"
      },
      "source": [
        "clf_entropy.fit(X_train, Y_train)  "
      ],
      "execution_count": null,
      "outputs": [
        {
          "output_type": "execute_result",
          "data": {
            "text/plain": [
              "DecisionTreeClassifier(ccp_alpha=0.0, class_weight=None, criterion='entropy',\n",
              "                       max_depth=5, max_features=None, max_leaf_nodes=None,\n",
              "                       min_impurity_decrease=0.0, min_impurity_split=None,\n",
              "                       min_samples_leaf=3, min_samples_split=2,\n",
              "                       min_weight_fraction_leaf=0.0, presort='deprecated',\n",
              "                       random_state=100, splitter='best')"
            ]
          },
          "metadata": {},
          "execution_count": 21
        }
      ]
    },
    {
      "cell_type": "markdown",
      "metadata": {
        "id": "CGfazRHXSoIq"
      },
      "source": [
        "Evaluating The model"
      ]
    },
    {
      "cell_type": "code",
      "metadata": {
        "colab": {
          "base_uri": "https://localhost:8080/"
        },
        "id": "FCdkekC1SkLH",
        "outputId": "8f670f75-07d4-440f-ddcc-968fbe80f422"
      },
      "source": [
        "y_pred_entropy = clf_entropy.predict(X_test)  \n",
        "y_pred_entropy"
      ],
      "execution_count": null,
      "outputs": [
        {
          "output_type": "execute_result",
          "data": {
            "text/plain": [
              "array(['2', '0', '2', '0', '2', '2', '0', '0', '2', '0', '0', '2', '0',\n",
              "       '0', '2', '1', '1', '2', '2', '2', '2', '0', '2', '0', '1', '2',\n",
              "       '1', '0', '1', '2'], dtype=object)"
            ]
          },
          "metadata": {},
          "execution_count": 25
        }
      ]
    },
    {
      "cell_type": "markdown",
      "metadata": {
        "id": "0hB19ZvySxAy"
      },
      "source": [
        "Accuracy "
      ]
    },
    {
      "cell_type": "code",
      "metadata": {
        "colab": {
          "base_uri": "https://localhost:8080/"
        },
        "id": "UdH7dIc5Sr9H",
        "outputId": "4e80cdff-4297-458e-e02b-32db831445e1"
      },
      "source": [
        "print (\"Accuracy : \", accuracy_score(Y_test,y_pred_entropy))"
      ],
      "execution_count": null,
      "outputs": [
        {
          "output_type": "stream",
          "name": "stdout",
          "text": [
            "Accuracy :  0.9666666666666667\n"
          ]
        }
      ]
    },
    {
      "cell_type": "code",
      "metadata": {
        "colab": {
          "base_uri": "https://localhost:8080/"
        },
        "id": "ZrtRxJMmS0pH",
        "outputId": "4d909d39-8133-4d0a-9260-7a72a8b22485"
      },
      "source": [
        "print (\"Report : \",  classification_report(Y_test, y_pred_entropy))"
      ],
      "execution_count": null,
      "outputs": [
        {
          "output_type": "stream",
          "name": "stdout",
          "text": [
            "Report :                precision    recall  f1-score   support\n",
            "\n",
            "           0       1.00      1.00      1.00        11\n",
            "           1       1.00      0.83      0.91         6\n",
            "           2       0.93      1.00      0.96        13\n",
            "\n",
            "    accuracy                           0.97        30\n",
            "   macro avg       0.98      0.94      0.96        30\n",
            "weighted avg       0.97      0.97      0.97        30\n",
            "\n"
          ]
        }
      ]
    },
    {
      "cell_type": "markdown",
      "metadata": {
        "id": "TFq2EVaCTaJd"
      },
      "source": [
        "Visualizing Decision tree"
      ]
    },
    {
      "cell_type": "code",
      "metadata": {
        "colab": {
          "base_uri": "https://localhost:8080/",
          "height": 399
        },
        "id": "BpH4fdSKTR6H",
        "outputId": "c7b9e066-812f-4738-b1ca-73d8b5b54c7b"
      },
      "source": [
        "tree.plot_tree(clf_entropy)"
      ],
      "execution_count": null,
      "outputs": [
        {
          "output_type": "execute_result",
          "data": {
            "text/plain": [
              "[Text(125.55000000000001, 190.26, 'X[2] <= 2.45\\nentropy = 1.581\\nsamples = 120\\nvalue = [39, 44, 37]'),\n",
              " Text(83.7, 135.9, 'entropy = 0.0\\nsamples = 39\\nvalue = [39, 0, 0]'),\n",
              " Text(167.4, 135.9, 'X[3] <= 1.65\\nentropy = 0.995\\nsamples = 81\\nvalue = [0, 44, 37]'),\n",
              " Text(83.7, 81.53999999999999, 'X[2] <= 4.95\\nentropy = 0.42\\nsamples = 47\\nvalue = [0, 43, 4]'),\n",
              " Text(41.85, 27.180000000000007, 'entropy = 0.0\\nsamples = 42\\nvalue = [0, 42, 0]'),\n",
              " Text(125.55000000000001, 27.180000000000007, 'entropy = 0.722\\nsamples = 5\\nvalue = [0, 1, 4]'),\n",
              " Text(251.10000000000002, 81.53999999999999, 'X[2] <= 4.85\\nentropy = 0.191\\nsamples = 34\\nvalue = [0, 1, 33]'),\n",
              " Text(209.25, 27.180000000000007, 'entropy = 0.811\\nsamples = 4\\nvalue = [0, 1, 3]'),\n",
              " Text(292.95, 27.180000000000007, 'entropy = 0.0\\nsamples = 30\\nvalue = [0, 0, 30]')]"
            ]
          },
          "metadata": {},
          "execution_count": 28
        },
        {
          "output_type": "display_data",
          "data": {
            "image/png": "[encoded data removed]",
            "text/plain": [
              "<Figure size 432x288 with 1 Axes>"
            ]
          },
          "metadata": {
            "needs_background": "light"
          }
        }
      ]
    },
    {
      "cell_type": "code",
      "metadata": {
        "id": "08VFENcsTdWG"
      },
      "source": [
        ""
      ],
      "execution_count": null,
      "outputs": []
    }
  ]
}